{
  "nbformat": 4,
  "nbformat_minor": 0,
  "metadata": {
    "colab": {
      "name": "Untitled0.ipynb",
      "provenance": [],
      "authorship_tag": "ABX9TyMKa1c/KUI1IDb+6Nv8VA/a",
      "include_colab_link": true
    },
    "kernelspec": {
      "name": "python3",
      "display_name": "Python 3"
    },
    "language_info": {
      "name": "python"
    }
  },
  "cells": [
    {
      "cell_type": "markdown",
      "metadata": {
        "id": "view-in-github",
        "colab_type": "text"
      },
      "source": [
        "<a href=\"https://colab.research.google.com/github/VSaikarthik/PythonImpPrograms/blob/main/Untitled0.ipynb\" target=\"_parent\"><img src=\"https://colab.research.google.com/assets/colab-badge.svg\" alt=\"Open In Colab\"/></a>"
      ]
    },
    {
      "cell_type": "code",
      "metadata": {
        "colab": {
          "base_uri": "https://localhost:8080/"
        },
        "id": "H29Y6zoSOJQE",
        "outputId": "47d8ac57-ff58-4374-fa01-698afb561ac8"
      },
      "source": [
        "n = int(input(\"Enter the number of rows\"))  \n",
        "for i in range(0, n):\n",
        "  for j in range(0, i + 1):\n",
        "    print(\"* \", end=\"\")\n",
        "  print()"
      ],
      "execution_count": 1,
      "outputs": [
        {
          "output_type": "stream",
          "name": "stdout",
          "text": [
            "Enter the number of rows5\n",
            "* \n",
            "* * \n",
            "* * * \n",
            "* * * * \n",
            "* * * * * \n"
          ]
        }
      ]
    },
    {
      "cell_type": "code",
      "metadata": {
        "colab": {
          "base_uri": "https://localhost:8080/"
        },
        "id": "WzSgqcjROujU",
        "outputId": "f995c592-6572-40d5-c9f8-4bf807e8d7fe"
      },
      "source": [
        "\n",
        "start_val = 1\n",
        "n = int(input(\"Enter the n number:\"))\n",
        "for num in range(start_val, n+1):\n",
        "    if(num>1):\n",
        "        for i in range(2,num):\n",
        "            if(num%i)==0:\n",
        "                break\n",
        "        else:\n",
        "            print(num)"
      ],
      "execution_count": 15,
      "outputs": [
        {
          "output_type": "stream",
          "name": "stdout",
          "text": [
            "Enter the n number:20\n",
            "2\n",
            "3\n",
            "5\n",
            "7\n",
            "11\n",
            "13\n",
            "17\n",
            "19\n"
          ]
        }
      ]
    },
    {
      "cell_type": "code",
      "metadata": {
        "colab": {
          "base_uri": "https://localhost:8080/"
        },
        "id": "wLjh4No-OumM",
        "outputId": "652ca07b-8568-4b9e-fd13-ca3e393b0f5a"
      },
      "source": [
        "\n",
        "sum=0\n",
        "n = int(input(\"Enter n\"))\n",
        "for i in range(1,n+1):\n",
        "  sum=sum+i\n",
        "print(\"The sum is:\",sum)"
      ],
      "execution_count": 16,
      "outputs": [
        {
          "output_type": "stream",
          "name": "stdout",
          "text": [
            "Enter n10\n",
            "The sum is: 55\n"
          ]
        }
      ]
    },
    {
      "cell_type": "code",
      "metadata": {
        "colab": {
          "base_uri": "https://localhost:8080/"
        },
        "id": "ONx2735hOupU",
        "outputId": "9a8a4362-ee0b-4556-d585-092a5286761c"
      },
      "source": [
        "num1 = float(input(\"Enter number 1: \")) \n",
        "num2 = float(input(\"Enter number 2: \")) \n",
        "num3 = float(input(\"Enter number 3: \"))\n",
        "big=num1\n",
        "if (big<num2): big=num2\n",
        "if (big<num3): big=num3\n",
        "\n",
        "print(\"The largest among the three is : \",big)"
      ],
      "execution_count": 17,
      "outputs": [
        {
          "output_type": "stream",
          "name": "stdout",
          "text": [
            "Enter number 1: 0\n",
            "Enter number 2: 20\n",
            "Enter number 3: 30\n",
            "The largest among the three is :  30.0\n"
          ]
        }
      ]
    },
    {
      "cell_type": "code",
      "metadata": {
        "colab": {
          "base_uri": "https://localhost:8080/"
        },
        "id": "wTWIxoBxOusN",
        "outputId": "7b24865c-6a8f-44b1-ffe8-349ed8a9801a"
      },
      "source": [
        "import numpy as np\n",
        "A = np.array([[1, 1, 1], [1, 1, 1],[1,1,1]])\n",
        "B = np.array([[1, 1, 1], [1, 1, 1],[1,1,1]])\n",
        "add=A+B\n",
        "print(\"Addition is\",add)\n",
        "mul = A.dot(B)\n",
        "print(\"Multiplication is\",mul)"
      ],
      "execution_count": 11,
      "outputs": [
        {
          "output_type": "stream",
          "name": "stdout",
          "text": [
            "Addition is [[2 2 2]\n",
            " [2 2 2]\n",
            " [2 2 2]]\n",
            "Multiplication is [[3 3 3]\n",
            " [3 3 3]\n",
            " [3 3 3]]\n"
          ]
        }
      ]
    },
    {
      "cell_type": "code",
      "metadata": {
        "colab": {
          "base_uri": "https://localhost:8080/"
        },
        "id": "N94i5Cy0OuvD",
        "outputId": "c0f02e16-8540-4ee1-d891-d085f2e7ea91"
      },
      "source": [
        "import numpy as np  \n",
        "a = np.array([[1,2,30],[10,15,4]])  \n",
        "print(\"The array:\",a)  \n",
        "print(\"The maximum elements of each column:\",a.max(axis = 0))   \n",
        "print(\"The minimum element of each row\",a.min(axis = 1))  \n",
        "print(\"The sum of elements of each row\",a.sum(axis = 1))"
      ],
      "execution_count": 12,
      "outputs": [
        {
          "output_type": "stream",
          "name": "stdout",
          "text": [
            "The array: [[ 1  2 30]\n",
            " [10 15  4]]\n",
            "The maximum elements of each column: [10 15 30]\n",
            "The minimum element of each row [1 4]\n",
            "The sum of elements of each row [33 29]\n"
          ]
        }
      ]
    },
    {
      "cell_type": "code",
      "metadata": {
        "colab": {
          "base_uri": "https://localhost:8080/"
        },
        "id": "6PZK7MB-Oux8",
        "outputId": "d999dfb6-bbb4-4834-bac6-ede925b79656"
      },
      "source": [
        "def factorial(x):\n",
        "     if x == 1:\n",
        "        return 1\n",
        "     else:\n",
        "        return (x * factorial(x-1))\n",
        "num = 3\n",
        "print(\"The factorial of\", num, \"is\", factorial(num))"
      ],
      "execution_count": 13,
      "outputs": [
        {
          "output_type": "stream",
          "name": "stdout",
          "text": [
            "The factorial of 3 is 6\n"
          ]
        }
      ]
    },
    {
      "cell_type": "code",
      "metadata": {
        "colab": {
          "base_uri": "https://localhost:8080/"
        },
        "id": "MNxbuPw2Ou27",
        "outputId": "0f96e7bf-a6a6-4b4c-c50e-9196612e6142"
      },
      "source": [
        "list1 = [1, 2, 3, 4]\n",
        "list2 = [5, 6, 7, 8]\n",
        "print(\"Repetition:\",list1*2)\n",
        "print(\"Concatenation:\",list1+list2)\n",
        "print(\"membership:\",2 in list1)\n",
        "print(\"Iteration:\")\n",
        "for i in list1:\n",
        "  print(i)\n",
        "print(\"length:\",len(list1))"
      ],
      "execution_count": 14,
      "outputs": [
        {
          "output_type": "stream",
          "name": "stdout",
          "text": [
            "Repetition: [1, 2, 3, 4, 1, 2, 3, 4]\n",
            "Concatenation: [1, 2, 3, 4, 5, 6, 7, 8]\n",
            "membership: True\n",
            "Iteration:\n",
            "1\n",
            "2\n",
            "3\n",
            "4\n",
            "length: 4\n"
          ]
        }
      ]
    },
    {
      "cell_type": "code",
      "metadata": {
        "colab": {
          "base_uri": "https://localhost:8080/"
        },
        "id": "9p04j-siOu5k",
        "outputId": "97faf115-b84a-42e0-9685-c7dcbb47f822"
      },
      "source": [
        "def add(num1, num2):\n",
        "    return num1 + num2\n",
        "  \n",
        "# Function to subtract two numbers \n",
        "def subtract(num1, num2):\n",
        "    return num1 - num2\n",
        "  \n",
        "# Function to multiply two numbers\n",
        "def multiply(num1, num2):\n",
        "    return num1 * num2\n",
        "  \n",
        "# Function to divide two numbers\n",
        "def divide(num1, num2):\n",
        "    return num1 / num2\n",
        "  \n",
        "print(\"Please select operation -\\n\" \\\n",
        "        \"1. Add\\n\" \\\n",
        "        \"2. Subtract\\n\" \\\n",
        "        \"3. Multiply\\n\" \\\n",
        "        \"4. Divide\\n\")\n",
        "   \n",
        "# Take input from the user \n",
        "select = int(input(\"Select operations form 1, 2, 3, 4 :\"))\n",
        "  \n",
        "number_1 = int(input(\"Enter first number: \"))\n",
        "number_2 = int(input(\"Enter second number: \"))\n",
        "  \n",
        "if select == 1:\n",
        "    print(number_1, \"+\", number_2, \"=\",\n",
        "                    add(number_1, number_2))\n",
        "  \n",
        "elif select == 2:\n",
        "    print(number_1, \"-\", number_2, \"=\",\n",
        "                    subtract(number_1, number_2))\n",
        "  \n",
        "elif select == 3:\n",
        "    print(number_1, \"*\", number_2, \"=\",\n",
        "                    multiply(number_1, number_2))\n",
        "  \n",
        "elif select == 4:\n",
        "    print(number_1, \"/\", number_2, \"=\",\n",
        "                    divide(number_1, number_2))\n",
        "else:\n",
        "    print(\"Invalid input\")2"
      ],
      "execution_count": 3,
      "outputs": [
        {
          "output_type": "stream",
          "name": "stdout",
          "text": [
            "Please select operation -\n",
            "1. Add\n",
            "2. Subtract\n",
            "3. Multiply\n",
            "4. Divide\n",
            "\n",
            "Select operations form 1, 2, 3, 4 :1\n",
            "Enter first number: 10\n",
            "Enter second number: 20\n",
            "10 + 20 = 30\n"
          ]
        }
      ]
    },
    {
      "cell_type": "code",
      "metadata": {
        "colab": {
          "base_uri": "https://localhost:8080/"
        },
        "id": "WaAyZHbQOu78",
        "outputId": "60e90d24-914d-48e4-a14f-da5a1fd50ad6"
      },
      "source": [
        "list1 = [10, 21, 4, 45, 66, 93]\n",
        " \n",
        "# iterating each number in list\n",
        "for num in list1:\n",
        " \n",
        "    # checking condition\n",
        "    if num % 2 == 0:\n",
        "        print(num, end=\" \")"
      ],
      "execution_count": 2,
      "outputs": [
        {
          "output_type": "stream",
          "name": "stdout",
          "text": [
            "10 4 66 "
          ]
        }
      ]
    },
    {
      "cell_type": "code",
      "metadata": {
        "id": "OBM6YJPfOOgW"
      },
      "source": [
        ""
      ],
      "execution_count": null,
      "outputs": []
    },
    {
      "cell_type": "markdown",
      "metadata": {
        "id": "KBhjkoBbOQcl"
      },
      "source": [
        ""
      ]
    }
  ]
}