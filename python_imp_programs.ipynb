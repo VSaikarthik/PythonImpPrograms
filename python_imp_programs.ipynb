{
  "nbformat": 4,
  "nbformat_minor": 0,
  "metadata": {
    "colab": {
      "name": "python imp programs.ipynb",
      "provenance": []
    },
    "kernelspec": {
      "name": "python3",
      "display_name": "Python 3"
    },
    "language_info": {
      "name": "python"
    }
  },
  "cells": [
    {
      "cell_type": "markdown",
      "metadata": {
        "id": "XnAy-AwzYsTz"
      },
      "source": [
        "#Python Important Programs"
      ]
    },
    {
      "cell_type": "markdown",
      "metadata": {
        "id": "5jRR496KMX4Z"
      },
      "source": [
        "write a python program to print the following pattern<br>\n",
        "$*$ <br>\n",
        "$**$ <br>\n",
        "$***$<br>\n",
        "$****$<br>\n",
        "$*****$<br>"
      ]
    },
    {
      "cell_type": "code",
      "metadata": {
        "colab": {
          "base_uri": "https://localhost:8080/"
        },
        "id": "y-rD19eJNAm7",
        "outputId": "4f612906-9e8a-4d87-8ba2-52ec4927fd6a"
      },
      "source": [
        "n = int(input(\"Enter the number of rows\"))  \n",
        "for i in range(0, n):\n",
        "  for j in range(0, i + 1):\n",
        "    print(\"* \", end=\"\")\n",
        "  print()\n"
      ],
      "execution_count": 3,
      "outputs": [
        {
          "output_type": "stream",
          "name": "stdout",
          "text": [
            "Enter the number of rows5\n",
            "* \n",
            "* * \n",
            "* * * \n",
            "* * * * \n",
            "* * * * * \n"
          ]
        }
      ]
    },
    {
      "cell_type": "markdown",
      "metadata": {
        "id": "KD8XNL1eRdZG"
      },
      "source": [
        "Write a python program to print prime numbers up to n"
      ]
    },
    {
      "cell_type": "code",
      "metadata": {
        "colab": {
          "base_uri": "https://localhost:8080/"
        },
        "id": "yDqu7-cZRldg",
        "outputId": "33ef433b-bf72-4d51-98af-21c257357eda"
      },
      "source": [
        "start_val = 1\n",
        "n = int(input(\"Enter the n number:\"))\n",
        "for num in range(start_val, n+1):\n",
        "    if(num>1):\n",
        "        for i in range(2,num):\n",
        "            if(num%i)==0:\n",
        "                break\n",
        "        else:\n",
        "            print(num)\n"
      ],
      "execution_count": 4,
      "outputs": [
        {
          "output_type": "stream",
          "name": "stdout",
          "text": [
            "Enter the n number:20\n",
            "2\n",
            "3\n",
            "5\n",
            "7\n",
            "11\n",
            "13\n",
            "17\n",
            "19\n"
          ]
        }
      ]
    },
    {
      "cell_type": "markdown",
      "metadata": {
        "id": "w1ZL6xRUSYrQ"
      },
      "source": [
        "Write a python program to find sum of n natural numbers using for loop"
      ]
    },
    {
      "cell_type": "code",
      "metadata": {
        "colab": {
          "base_uri": "https://localhost:8080/"
        },
        "id": "_3AMcbiGSako",
        "outputId": "e48d25f3-6c3e-4e3f-e1be-a1ed9d332322"
      },
      "source": [
        "sum=0\n",
        "n = int(input(\"Enter n\"))\n",
        "for i in range(1,n+1):\n",
        "  sum=sum+i\n",
        "print(\"The sum is:\",sum)  "
      ],
      "execution_count": 9,
      "outputs": [
        {
          "output_type": "stream",
          "name": "stdout",
          "text": [
            "Enter n10\n",
            "The sum is: 55\n"
          ]
        }
      ]
    },
    {
      "cell_type": "markdown",
      "metadata": {
        "id": "I0a-VP2fTWUr"
      },
      "source": [
        "Write a python program to find largest of three numbers"
      ]
    },
    {
      "cell_type": "code",
      "metadata": {
        "colab": {
          "base_uri": "https://localhost:8080/"
        },
        "id": "-YpN5SzhTbwh",
        "outputId": "18fc885d-b0cf-45a9-bace-86ec22ae82e6"
      },
      "source": [
        "num1 = float(input(\"Enter number 1: \")) \n",
        "num2 = float(input(\"Enter number 2: \")) \n",
        "num3 = float(input(\"Enter number 3: \"))\n",
        "big=num1\n",
        "if (big<num2): big=num2\n",
        "if (big<num3): big=num3\n",
        "\n",
        "print(\"The largest among the three is : \",big)\n"
      ],
      "execution_count": 10,
      "outputs": [
        {
          "output_type": "stream",
          "name": "stdout",
          "text": [
            "Enter number 1: 20\n",
            "Enter number 2: 30\n",
            "Enter number 3: 10\n",
            "The largest among the three is :  30.0\n"
          ]
        }
      ]
    },
    {
      "cell_type": "markdown",
      "metadata": {
        "id": "CpvqaM5KUP2W"
      },
      "source": [
        "Write a python program to compute addition, multiplication  of matrices using numpy"
      ]
    },
    {
      "cell_type": "code",
      "metadata": {
        "colab": {
          "base_uri": "https://localhost:8080/"
        },
        "id": "W4AQcd6vUXFz",
        "outputId": "3e49c7b7-30e8-499b-a978-5375d169039c"
      },
      "source": [
        "import numpy as np\n",
        "A = np.array([[1, 1, 1], [1, 1, 1],[1,1,1]])\n",
        "B = np.array([[1, 1, 1], [1, 1, 1],[1,1,1]])\n",
        "add=A+B\n",
        "print(\"Addition is\",add)\n",
        "mul = A.dot(B)\n",
        "print(\"Multiplication is\",mul)"
      ],
      "execution_count": 17,
      "outputs": [
        {
          "output_type": "stream",
          "name": "stdout",
          "text": [
            "Addition is [[2 2 2]\n",
            " [2 2 2]\n",
            " [2 2 2]]\n",
            "Multiplication is [[3 3 3]\n",
            " [3 3 3]\n",
            " [3 3 3]]\n"
          ]
        }
      ]
    },
    {
      "cell_type": "markdown",
      "metadata": {
        "id": "MjfxSjLrVy0v"
      },
      "source": [
        "Write a python program to find maximum element in each column, minimum element in each row and sum of  elements in each row using numpy"
      ]
    },
    {
      "cell_type": "code",
      "metadata": {
        "colab": {
          "base_uri": "https://localhost:8080/"
        },
        "id": "wR2uASsWV63S",
        "outputId": "62587ed4-967c-4ff7-f4b7-d3a7ca14e09d"
      },
      "source": [
        "import numpy as np  \n",
        "a = np.array([[1,2,30],[10,15,4]])  \n",
        "print(\"The array:\",a)  \n",
        "print(\"The maximum elements of each column:\",a.max(axis = 0))   \n",
        "print(\"The minimum element of each row\",a.min(axis = 1))  \n",
        "print(\"The sum of elements of each row\",a.sum(axis = 1))  \n"
      ],
      "execution_count": 19,
      "outputs": [
        {
          "output_type": "stream",
          "name": "stdout",
          "text": [
            "The array: [[ 1  2 30]\n",
            " [10 15  4]]\n",
            "The maximum elements of each column: [10 15 30]\n",
            "The minimum element of each row [1 4]\n",
            "The sum of elements of each row [33 29]\n"
          ]
        }
      ]
    },
    {
      "cell_type": "markdown",
      "metadata": {
        "id": "0adEH3dvWbWq"
      },
      "source": [
        "Write a python program to find factorial of a given number using recursion"
      ]
    },
    {
      "cell_type": "code",
      "metadata": {
        "colab": {
          "base_uri": "https://localhost:8080/"
        },
        "id": "HzG2eSyxWdu4",
        "outputId": "ef4f457b-3436-4ebc-8fe6-ca7505f5ed51"
      },
      "source": [
        "def factorial(x):\n",
        "     if x == 1:\n",
        "        return 1\n",
        "     else:\n",
        "        return (x * factorial(x-1))\n",
        "num = 3\n",
        "print(\"The factorial of\", num, \"is\", factorial(num))\n"
      ],
      "execution_count": 21,
      "outputs": [
        {
          "output_type": "stream",
          "name": "stdout",
          "text": [
            "The factorial of 3 is 6\n"
          ]
        }
      ]
    },
    {
      "cell_type": "markdown",
      "metadata": {
        "id": "vA2o2EgAW22-"
      },
      "source": [
        "Write a python program to demonstrate various list operations"
      ]
    },
    {
      "cell_type": "code",
      "metadata": {
        "colab": {
          "base_uri": "https://localhost:8080/"
        },
        "id": "uS2sM20vW4GO",
        "outputId": "698904e6-f0da-4a82-96f2-5c4715d7990a"
      },
      "source": [
        "list1 = [1, 2, 3, 4]\n",
        "list2 = [5, 6, 7, 8]\n",
        "print(\"Repetition:\",list1*2)\n",
        "print(\"Concatenation:\",list1+list2)\n",
        "print(\"membership:\",2 in list1)\n",
        "print(\"Iteration:\")\n",
        "for i in list1:\n",
        "  print(i)\n",
        "print(\"length:\",len(list1)) "
      ],
      "execution_count": 26,
      "outputs": [
        {
          "output_type": "stream",
          "name": "stdout",
          "text": [
            "Repetition: [1, 2, 3, 4, 1, 2, 3, 4]\n",
            "Concatenation: [1, 2, 3, 4, 5, 6, 7, 8]\n",
            "membership: True\n",
            "Iteration:\n",
            "1\n",
            "2\n",
            "3\n",
            "4\n",
            "length: 4\n"
          ]
        }
      ]
    },
    {
      "cell_type": "markdown",
      "metadata": {
        "id": "ZeOXw__sYAGv"
      },
      "source": [
        "Write a python program toimplement basic calculator using functions"
      ]
    },
    {
      "cell_type": "code",
      "metadata": {
        "colab": {
          "base_uri": "https://localhost:8080/"
        },
        "id": "Lj1DtSA8UOf-",
        "outputId": "74411402-383a-44be-c72d-9c73d2edf293"
      },
      "source": [
        "# Python program for simple calculator\n",
        "  \n",
        "# Function to add two numbers \n",
        "def add(num1, num2):\n",
        "    return num1 + num2\n",
        "  \n",
        "# Function to subtract two numbers \n",
        "def subtract(num1, num2):\n",
        "    return num1 - num2\n",
        "  \n",
        "# Function to multiply two numbers\n",
        "def multiply(num1, num2):\n",
        "    return num1 * num2\n",
        "  \n",
        "# Function to divide two numbers\n",
        "def divide(num1, num2):\n",
        "    return num1 / num2\n",
        "  \n",
        "print(\"Please select operation -\\n\" \\\n",
        "        \"1. Add\\n\" \\\n",
        "        \"2. Subtract\\n\" \\\n",
        "        \"3. Multiply\\n\" \\\n",
        "        \"4. Divide\\n\")\n",
        "   \n",
        "# Take input from the user \n",
        "select = int(input(\"Select operations form 1, 2, 3, 4 :\"))\n",
        "  \n",
        "number_1 = int(input(\"Enter first number: \"))\n",
        "number_2 = int(input(\"Enter second number: \"))\n",
        "  \n",
        "if select == 1:\n",
        "    print(number_1, \"+\", number_2, \"=\",\n",
        "                    add(number_1, number_2))\n",
        "  \n",
        "elif select == 2:\n",
        "    print(number_1, \"-\", number_2, \"=\",\n",
        "                    subtract(number_1, number_2))\n",
        "  \n",
        "elif select == 3:\n",
        "    print(number_1, \"*\", number_2, \"=\",\n",
        "                    multiply(number_1, number_2))\n",
        "  \n",
        "elif select == 4:\n",
        "    print(number_1, \"/\", number_2, \"=\",\n",
        "                    divide(number_1, number_2))\n",
        "else:\n",
        "    print(\"Invalid input\")\n"
      ],
      "execution_count": 27,
      "outputs": [
        {
          "output_type": "stream",
          "name": "stdout",
          "text": [
            "Please select operation -\n",
            "1. Add\n",
            "2. Subtract\n",
            "3. Multiply\n",
            "4. Divide\n",
            "\n",
            "Select operations form 1, 2, 3, 4 :1\n",
            "Enter first number: 10\n",
            "Enter second number: 20\n",
            "10 + 20 = 30\n"
          ]
        }
      ]
    },
    {
      "cell_type": "markdown",
      "metadata": {
        "id": "LjO_x6R2YWVa"
      },
      "source": [
        "Write a python program to find even numbers in a list"
      ]
    },
    {
      "cell_type": "code",
      "metadata": {
        "colab": {
          "base_uri": "https://localhost:8080/"
        },
        "id": "cJa1QbqKYcyT",
        "outputId": "01afd752-868e-40ad-8d08-678061b5aa5e"
      },
      "source": [
        "# list of numbers\n",
        "list1 = [10, 21, 4, 45, 66, 93]\n",
        " \n",
        "# iterating each number in list\n",
        "for num in list1:\n",
        " \n",
        "    # checking condition\n",
        "    if num % 2 == 0:\n",
        "        print(num, end=\" \")\n"
      ],
      "execution_count": 28,
      "outputs": [
        {
          "output_type": "stream",
          "name": "stdout",
          "text": [
            "10 4 66 "
          ]
        }
      ]
    }
  ]
}